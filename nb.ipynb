{
 "cells": [
  {
   "cell_type": "code",
   "execution_count": 1,
   "metadata": {},
   "outputs": [
    {
     "name": "stdout",
     "output_type": "stream",
     "text": [
      "DONE 1\n"
     ]
    },
    {
     "ename": "KeyboardInterrupt",
     "evalue": "",
     "output_type": "error",
     "traceback": [
      "\u001b[1;31m---------------------------------------------------------------------------\u001b[0m",
      "\u001b[1;31mKeyboardInterrupt\u001b[0m                         Traceback (most recent call last)",
      "\u001b[1;32mc:\\Users\\andre\\Desktop\\Università\\Signal, Image and Video\\ELSR-keras\\nb.ipynb Cell 1\u001b[0m in \u001b[0;36m<cell line: 3>\u001b[1;34m()\u001b[0m\n\u001b[0;32m      <a href='vscode-notebook-cell:/c%3A/Users/andre/Desktop/Universit%C3%A0/Signal%2C%20Image%20and%20Video/ELSR-keras/nb.ipynb#W0sZmlsZQ%3D%3D?line=0'>1</a>\u001b[0m \u001b[39mfrom\u001b[39;00m \u001b[39mdataset\u001b[39;00m \u001b[39mimport\u001b[39;00m get_training_data\n\u001b[1;32m----> <a href='vscode-notebook-cell:/c%3A/Users/andre/Desktop/Universit%C3%A0/Signal%2C%20Image%20and%20Video/ELSR-keras/nb.ipynb#W0sZmlsZQ%3D%3D?line=2'>3</a>\u001b[0m train_X, train_Y, val_X, val_Y \u001b[39m=\u001b[39m get_training_data()\n",
      "File \u001b[1;32mc:\\Users\\andre\\Desktop\\Università\\Signal, Image and Video\\ELSR-keras\\dataset.py:73\u001b[0m, in \u001b[0;36mget_training_data\u001b[1;34m()\u001b[0m\n\u001b[0;32m     71\u001b[0m training_validation_split(train_sharp_bicubic, train_X, val_X)\n\u001b[0;32m     72\u001b[0m \u001b[39mprint\u001b[39m(\u001b[39m\"\u001b[39m\u001b[39mDONE 1\u001b[39m\u001b[39m\"\u001b[39m)\n\u001b[1;32m---> 73\u001b[0m training_validation_split(train_blur_bicubic, train_X, val_X)\n\u001b[0;32m     74\u001b[0m \u001b[39mprint\u001b[39m(\u001b[39m\"\u001b[39m\u001b[39mDONE 2\u001b[39m\u001b[39m\"\u001b[39m)\n\u001b[0;32m     75\u001b[0m training_validation_split(train_sharp, train_Y, val_Y)\n",
      "File \u001b[1;32mc:\\Users\\andre\\Desktop\\Università\\Signal, Image and Video\\ELSR-keras\\dataset.py:40\u001b[0m, in \u001b[0;36mtraining_validation_split\u001b[1;34m(dir, train_list, val_list)\u001b[0m\n\u001b[0;32m     38\u001b[0m \u001b[39mfor\u001b[39;00m i, image_name \u001b[39min\u001b[39;00m \u001b[39menumerate\u001b[39m(\u001b[39msorted\u001b[39m(os\u001b[39m.\u001b[39mlistdir(f_path))):\n\u001b[0;32m     39\u001b[0m     image_path \u001b[39m=\u001b[39m os\u001b[39m.\u001b[39mpath\u001b[39m.\u001b[39mjoin(f_path, image_name)\n\u001b[1;32m---> 40\u001b[0m     image \u001b[39m=\u001b[39m plt\u001b[39m.\u001b[39;49mimread(image_path)\n\u001b[0;32m     41\u001b[0m     \u001b[39mif\u001b[39;00m i \u001b[39m<\u001b[39m \u001b[39m210\u001b[39m:\n\u001b[0;32m     42\u001b[0m         train_images\u001b[39m.\u001b[39mappend(image)\n",
      "File \u001b[1;32mc:\\Users\\andre\\anaconda3\\lib\\site-packages\\matplotlib\\pyplot.py:2139\u001b[0m, in \u001b[0;36mimread\u001b[1;34m(fname, format)\u001b[0m\n\u001b[0;32m   2137\u001b[0m \u001b[39m@_copy_docstring_and_deprecators\u001b[39m(matplotlib\u001b[39m.\u001b[39mimage\u001b[39m.\u001b[39mimread)\n\u001b[0;32m   2138\u001b[0m \u001b[39mdef\u001b[39;00m \u001b[39mimread\u001b[39m(fname, \u001b[39mformat\u001b[39m\u001b[39m=\u001b[39m\u001b[39mNone\u001b[39;00m):\n\u001b[1;32m-> 2139\u001b[0m     \u001b[39mreturn\u001b[39;00m matplotlib\u001b[39m.\u001b[39;49mimage\u001b[39m.\u001b[39;49mimread(fname, \u001b[39mformat\u001b[39;49m)\n",
      "File \u001b[1;32mc:\\Users\\andre\\anaconda3\\lib\\site-packages\\matplotlib\\image.py:1560\u001b[0m, in \u001b[0;36mimread\u001b[1;34m(fname, format)\u001b[0m\n\u001b[0;32m   1558\u001b[0m                 response \u001b[39m=\u001b[39m io\u001b[39m.\u001b[39mBytesIO(response\u001b[39m.\u001b[39mread())\n\u001b[0;32m   1559\u001b[0m             \u001b[39mreturn\u001b[39;00m imread(response, \u001b[39mformat\u001b[39m\u001b[39m=\u001b[39mext)\n\u001b[1;32m-> 1560\u001b[0m \u001b[39mwith\u001b[39;00m img_open(fname) \u001b[39mas\u001b[39;00m image:\n\u001b[0;32m   1561\u001b[0m     \u001b[39mreturn\u001b[39;00m (_pil_png_to_float_array(image)\n\u001b[0;32m   1562\u001b[0m             \u001b[39mif\u001b[39;00m \u001b[39misinstance\u001b[39m(image, PIL\u001b[39m.\u001b[39mPngImagePlugin\u001b[39m.\u001b[39mPngImageFile) \u001b[39melse\u001b[39;00m\n\u001b[0;32m   1563\u001b[0m             pil_to_array(image))\n",
      "File \u001b[1;32mc:\\Users\\andre\\anaconda3\\lib\\site-packages\\PIL\\ImageFile.py:100\u001b[0m, in \u001b[0;36mImageFile.__init__\u001b[1;34m(self, fp, filename)\u001b[0m\n\u001b[0;32m     96\u001b[0m \u001b[39mself\u001b[39m\u001b[39m.\u001b[39mdecodermaxblock \u001b[39m=\u001b[39m MAXBLOCK\n\u001b[0;32m     98\u001b[0m \u001b[39mif\u001b[39;00m isPath(fp):\n\u001b[0;32m     99\u001b[0m     \u001b[39m# filename\u001b[39;00m\n\u001b[1;32m--> 100\u001b[0m     \u001b[39mself\u001b[39m\u001b[39m.\u001b[39mfp \u001b[39m=\u001b[39m \u001b[39mopen\u001b[39;49m(fp, \u001b[39m\"\u001b[39;49m\u001b[39mrb\u001b[39;49m\u001b[39m\"\u001b[39;49m)\n\u001b[0;32m    101\u001b[0m     \u001b[39mself\u001b[39m\u001b[39m.\u001b[39mfilename \u001b[39m=\u001b[39m fp\n\u001b[0;32m    102\u001b[0m     \u001b[39mself\u001b[39m\u001b[39m.\u001b[39m_exclusive_fp \u001b[39m=\u001b[39m \u001b[39mTrue\u001b[39;00m\n",
      "\u001b[1;31mKeyboardInterrupt\u001b[0m: "
     ]
    }
   ],
   "source": [
    "from dataset import get_training_data\n",
    "\n",
    "train_X, train_Y, val_X, val_Y = get_training_data()"
   ]
  }
 ],
 "metadata": {
  "kernelspec": {
   "display_name": "base",
   "language": "python",
   "name": "python3"
  },
  "language_info": {
   "codemirror_mode": {
    "name": "ipython",
    "version": 3
   },
   "file_extension": ".py",
   "mimetype": "text/x-python",
   "name": "python",
   "nbconvert_exporter": "python",
   "pygments_lexer": "ipython3",
   "version": "3.9.12"
  },
  "orig_nbformat": 4,
  "vscode": {
   "interpreter": {
    "hash": "c4f92193806e2908606a5f23edd55a5282f2f433b73b1c504507f9256ed9f0b4"
   }
  }
 },
 "nbformat": 4,
 "nbformat_minor": 2
}
