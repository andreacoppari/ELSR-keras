{
 "cells": [
  {
   "cell_type": "code",
   "execution_count": 1,
   "metadata": {},
   "outputs": [
    {
     "name": "stdout",
     "output_type": "stream",
     "text": [
      "TRAIN_X SHAPE: (8, 100, 180, 320, 3)\n",
      "TRAIN_Y SHAPE: (8, 100, 720, 1280, 3)\n"
     ]
    }
   ],
   "source": [
    "#Data augmentation\n",
    "import numpy as np\n",
    "import os\n",
    "from preprocessing import augment_data\n",
    "import matplotlib.pyplot as plt\n",
    "\n",
    "train_X = np.array(np.load(os.path.join(os.getcwd(), \"datasets/npy/train_X.npy\")), dtype=\"float32\")\n",
    "train_Y = np.array(np.load(os.path.join(os.getcwd(), \"datasets/npy/train_Y.npy\")), dtype=\"float32\")\n",
    "\n",
    "train_aug_X = []\n",
    "train_aug_Y = []\n",
    "\n",
    "for v in range(8):\n",
    "    video_aug_X = []\n",
    "    video_aug_Y = []\n",
    "    for frame in range(100):\n",
    "        lr, hr = augment_data(train_X[v, frame], train_Y[v, frame])\n",
    "        video_aug_X.append(lr)\n",
    "        video_aug_Y.append(hr)\n",
    "    train_aug_X.append(video_aug_X)\n",
    "    train_aug_Y.append(video_aug_Y)\n",
    "\n",
    "print(f\"TRAIN_X SHAPE: {np.array(train_aug_X).shape}\")\n",
    "print(f\"TRAIN_Y SHAPE: {np.array(train_aug_Y).shape}\")\n",
    "\n",
    "np.save('train_aug_X', train_aug_X)\n",
    "np.save('train_aug_Y', train_aug_Y)"
   ]
  }
 ],
 "metadata": {
  "kernelspec": {
   "display_name": "base",
   "language": "python",
   "name": "python3"
  },
  "language_info": {
   "codemirror_mode": {
    "name": "ipython",
    "version": 3
   },
   "file_extension": ".py",
   "mimetype": "text/x-python",
   "name": "python",
   "nbconvert_exporter": "python",
   "pygments_lexer": "ipython3",
   "version": "3.9.12"
  },
  "orig_nbformat": 4,
  "vscode": {
   "interpreter": {
    "hash": "c4f92193806e2908606a5f23edd55a5282f2f433b73b1c504507f9256ed9f0b4"
   }
  }
 },
 "nbformat": 4,
 "nbformat_minor": 2
}
