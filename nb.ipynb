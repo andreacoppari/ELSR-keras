{
 "cells": [
  {
   "cell_type": "code",
   "execution_count": null,
   "metadata": {},
   "outputs": [],
   "source": [
    "#Data augmentation\n",
    "import numpy as np\n",
    "import os\n",
    "from preprocessing import augment_data\n",
    "import matplotlib.pyplot as plt\n",
    "\n",
    "train_X = np.array(np.load(os.path.join(os.getcwd(), \"datasets/npy/train_X.npy\")), dtype=\"float32\")\n",
    "train_Y = np.array(np.load(os.path.join(os.getcwd(), \"datasets/npy/train_Y.npy\")), dtype=\"float32\")\n",
    "\n",
    "train_aug_X = []\n",
    "train_aug_Y = []\n",
    "\n",
    "for videoX, videoY in zip(train_X, train_Y):\n",
    "    video_aug_X = []\n",
    "    video_aug_Y = []\n",
    "    for lr, hr in zip(videoX, videoY):\n",
    "        lr, hr = augment_data(lr, hr)\n",
    "        video_aug_X.append(lr)\n",
    "        video_aug_Y.append(hr)\n",
    "    train_aug_X.append(video_aug_X)\n",
    "    train_aug_Y.append(video_aug_Y)\n",
    "\n",
    "np.save('train_aug_X', train_aug_X)\n",
    "np.save('train_aug_Y', train_aug_Y)"
   ]
  }
 ],
 "metadata": {
  "kernelspec": {
   "display_name": "base",
   "language": "python",
   "name": "python3"
  },
  "language_info": {
   "codemirror_mode": {
    "name": "ipython",
    "version": 3
   },
   "file_extension": ".py",
   "mimetype": "text/x-python",
   "name": "python",
   "nbconvert_exporter": "python",
   "pygments_lexer": "ipython3",
   "version": "3.9.12"
  },
  "orig_nbformat": 4,
  "vscode": {
   "interpreter": {
    "hash": "c4f92193806e2908606a5f23edd55a5282f2f433b73b1c504507f9256ed9f0b4"
   }
  }
 },
 "nbformat": 4,
 "nbformat_minor": 2
}
