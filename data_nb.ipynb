{
 "cells": [
  {
   "cell_type": "code",
   "execution_count": null,
   "metadata": {},
   "outputs": [],
   "source": [
    "#Generation of training dataset\n",
    "\n",
    "from dataset import generate_training_data\n",
    "\n",
    "generate_training_data(\"datasets/train/train_sharp_bicubic/X4\")\n",
    "generate_training_data(\"datasets/train/train_blur_bicubic/X4\")"
   ]
  },
  {
   "cell_type": "code",
   "execution_count": null,
   "metadata": {},
   "outputs": [],
   "source": [
    "from dataset import generate_label_data\n",
    "\n",
    "generate_label_data(\"datasets/train/train_sharp/\")\n",
    "generate_label_data(\"datasets/train/train_blur/\")"
   ]
  },
  {
   "cell_type": "code",
   "execution_count": null,
   "metadata": {},
   "outputs": [],
   "source": [
    "#Generation of validation dataset\n",
    "\n",
    "from dataset import generate_validation_set\n",
    "\n",
    "generate_validation_set(\"datasets/val/val_sharp_bicubic/X4\", \"datasets/val/val_sharp/\")"
   ]
  },
  {
   "cell_type": "code",
   "execution_count": null,
   "metadata": {},
   "outputs": [],
   "source": [
    "#Data augmentation\n",
    "import numpy as np\n",
    "import os\n",
    "from preprocessing import augment_data\n",
    "import matplotlib.pyplot as plt\n",
    "\n",
    "for frame_X, frame_Y in zip(sorted(os.listdir(\"datasets/resized/\")), sorted(os.listdir(\"datasets/sr_resized/\"))):\n",
    "    if (frame_X == \"aug\" or frame_Y == \"aug\"): break\n",
    "    lr, hr = augment_data(os.path.join(\"datasets/resized/\", frame_X), os.path.join(\"datasets/sr_resized/\", frame_Y))\n",
    "    plt.imsave(f\"datasets/resized/aug/{frame_X}\", lr)\n",
    "    plt.imsave(f\"datasets/sr_resized/aug/{frame_Y}\", hr)\n",
    "\n",
    "\n",
    "fig, axs = plt.subplots(1, 2, figsize=(12, 8))\n",
    "axs[0].imshow(lr)\n",
    "axs[1].imshow(hr)\n",
    "plt.show()\n",
    "\n"
   ]
  },
  {
   "cell_type": "code",
   "execution_count": null,
   "metadata": {},
   "outputs": [],
   "source": [
    "#Generate h5 files\n",
    "from dataset import training_data, val_data\n",
    "\n",
    "training_data(\"datasets/h5/train.h5\")\n",
    "val_data(\"datasets/h5/val.h5\")"
   ]
  }
 ],
 "metadata": {
  "kernelspec": {
   "display_name": "elsr",
   "language": "python",
   "name": "python3"
  },
  "language_info": {
   "codemirror_mode": {
    "name": "ipython",
    "version": 3
   },
   "file_extension": ".py",
   "mimetype": "text/x-python",
   "name": "python",
   "nbconvert_exporter": "python",
   "pygments_lexer": "ipython3",
   "version": "3.10.9"
  },
  "orig_nbformat": 4,
  "vscode": {
   "interpreter": {
    "hash": "43c9a6769ee09b9a7a3931bdab51653a992e9354a59c66f104d16d44eaafef84"
   }
  }
 },
 "nbformat": 4,
 "nbformat_minor": 2
}
