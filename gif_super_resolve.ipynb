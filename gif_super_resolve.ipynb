{
 "cells": [
  {
   "attachments": {},
   "cell_type": "markdown",
   "metadata": {},
   "source": [
    "## GIF Super-resolver\n",
    "This notebook is for GIF super-resolution. Meant to be shown at the project presentation."
   ]
  },
  {
   "cell_type": "code",
   "execution_count": 1,
   "metadata": {},
   "outputs": [],
   "source": [
    "# Imports and constants\n",
    "\n",
    "import numpy as np\n",
    "import os\n",
    "\n",
    "import torch\n",
    "import torch.backends.cudnn as cudnn\n",
    "\n",
    "from model import ELSR\n",
    "from PIL import Image\n",
    "import cv2\n",
    "\n",
    "from preprocessing import prepare_img"
   ]
  },
  {
   "cell_type": "code",
   "execution_count": 2,
   "metadata": {},
   "outputs": [],
   "source": [
    "# Super-resolution function\n",
    "\n",
    "def super_resolve(model, device, video):\n",
    "\n",
    "    gif = []\n",
    "    for frame in video:\n",
    "        frame = prepare_img(frame, device)\n",
    "        gif.append(frame)      \n",
    "\n",
    "    sr_video = []\n",
    "    with torch.no_grad():\n",
    "        for frame in gif:\n",
    "            sr_img = model(frame).clamp(0, 1)\n",
    "            sr_video.append(sr_img)\n",
    "\n",
    "    return sr_video"
   ]
  },
  {
   "cell_type": "code",
   "execution_count": 3,
   "metadata": {},
   "outputs": [],
   "source": [
    "# Get gif frames\n",
    "\n",
    "SCALE = 4\n",
    "WEIGHTS = './checkpoints/best_X4_model.pth'\n",
    "INPUT = './test/gif/test.gif'\n",
    "\n",
    "cudnn.benchmark = True\n",
    "device = torch.device('cuda' if torch.cuda.is_available() else 'cpu')\n",
    "\n",
    "model = ELSR(upscale_factor=SCALE).to(device)\n",
    "\n",
    "state_dict = torch.load(WEIGHTS)\n",
    "model.load_state_dict(state_dict=state_dict)\n",
    "model.eval()\n",
    "\n",
    "with Image.open(INPUT) as im:\n",
    "    for i in range(im.n_frames):\n",
    "        im.seek(i)\n",
    "        im.save(f'./test/gif/frames/{i}.png')\n",
    "\n",
    "\n",
    "gif = []\n",
    "frames_path = \"./test/gif/frames/\"\n",
    "for frame_path in os.listdir(frames_path):\n",
    "    frame = cv2.cvtColor(cv2.imread(os.path.join(frames_path, frame_path)), cv2.COLOR_BGR2RGB)\n",
    "    gif.append(frame)"
   ]
  },
  {
   "cell_type": "code",
   "execution_count": 4,
   "metadata": {},
   "outputs": [],
   "source": [
    "# Super-resolve gif\n",
    "\n",
    "sr_gif = super_resolve(model, device, gif)\n",
    "\n",
    "gif = []\n",
    "for i, sr_img in enumerate(sr_gif):\n",
    "    out = sr_img.cpu().numpy().squeeze(0).transpose(1, 2, 0)\n",
    "    gif.append(Image.fromarray((out*255).astype(np.uint8)))\n",
    "gif[0].save('test/gif/sr_test.gif', save_all=True, append_images=gif[1:], loop=0, duration=10)"
   ]
  }
 ],
 "metadata": {
  "kernelspec": {
   "display_name": "elsr-test",
   "language": "python",
   "name": "python3"
  },
  "language_info": {
   "codemirror_mode": {
    "name": "ipython",
    "version": 3
   },
   "file_extension": ".py",
   "mimetype": "text/x-python",
   "name": "python",
   "nbconvert_exporter": "python",
   "pygments_lexer": "ipython3",
   "version": "3.10.9"
  },
  "orig_nbformat": 4,
  "vscode": {
   "interpreter": {
    "hash": "fece98c1d8afb4f19757fb501ac1a6d8c8c8575fde52deaf52402ba9d0273f41"
   }
  }
 },
 "nbformat": 4,
 "nbformat_minor": 2
}
