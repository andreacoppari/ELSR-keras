{
 "cells": [
  {
   "attachments": {},
   "cell_type": "markdown",
   "metadata": {},
   "source": [
    "## GIF Super-resolver\n",
    "This notebook is for GIF super-resolution. Meant to be shown at the project presentation."
   ]
  },
  {
   "cell_type": "code",
   "execution_count": 1,
   "metadata": {},
   "outputs": [],
   "source": [
    "# Imports and constants\n",
    "\n",
    "import numpy as np\n",
    "import os\n",
    "import cv2\n",
    "from time import time\n",
    "\n",
    "import torch\n",
    "import torch.backends.cudnn as cudnn\n",
    "\n",
    "from model import ELSR\n",
    "from PIL import Image\n",
    "from preprocessing import prepare_img"
   ]
  },
  {
   "cell_type": "code",
   "execution_count": 5,
   "metadata": {},
   "outputs": [],
   "source": [
    "# Super-resolution function\n",
    "\n",
    "def super_resolve(model, device, video):\n",
    "\n",
    "    gif = []\n",
    "    for frame in video:\n",
    "        frame = prepare_img(frame, device)\n",
    "        gif.append(frame)      \n",
    "\n",
    "    sr_video = []\n",
    "\n",
    "    t0 = time()\n",
    "\n",
    "    with torch.no_grad():\n",
    "        for frame in gif:\n",
    "            sr_img = model(frame).clamp(0, 1)\n",
    "            sr_video.append(sr_img)\n",
    "\n",
    "    t = time()-t0\n",
    "    print(f\"FPS: {5/t}\")\n",
    "\n",
    "    return sr_video"
   ]
  },
  {
   "cell_type": "code",
   "execution_count": 6,
   "metadata": {},
   "outputs": [],
   "source": [
    "# Get gif frames\n",
    "\n",
    "SCALE = 4\n",
    "WEIGHTS = './checkpoints/best_X4_model.pth'\n",
    "INPUT = './test/gif/test.gif'\n",
    "\n",
    "cudnn.benchmark = True\n",
    "device = torch.device('cuda' if torch.cuda.is_available() else 'cpu')\n",
    "\n",
    "model = ELSR(upscale_factor=SCALE).to(device)\n",
    "\n",
    "state_dict = torch.load(WEIGHTS)\n",
    "model.load_state_dict(state_dict=state_dict)\n",
    "model.eval()\n",
    "\n",
    "with Image.open(INPUT) as im:\n",
    "    for i in range(im.n_frames):\n",
    "        im.seek(i)\n",
    "        im.save(f'./test/gif/frames/{i}.png')\n",
    "\n",
    "\n",
    "gif = []\n",
    "frames_path = \"./test/gif/frames/\"\n",
    "for frame_path in os.listdir(frames_path):\n",
    "    frame = cv2.cvtColor(cv2.imread(os.path.join(frames_path, frame_path)), cv2.COLOR_BGR2RGB)\n",
    "    gif.append(frame)"
   ]
  },
  {
   "cell_type": "code",
   "execution_count": 27,
   "metadata": {},
   "outputs": [
    {
     "name": "stdout",
     "output_type": "stream",
     "text": [
      "FPS: 2534.016433059449\n"
     ]
    }
   ],
   "source": [
    "# Super-resolve gif\n",
    "\n",
    "sr_gif = super_resolve(model, device, gif)"
   ]
  },
  {
   "cell_type": "code",
   "execution_count": 28,
   "metadata": {},
   "outputs": [],
   "source": [
    "# Save output gif\n",
    "\n",
    "gif = []\n",
    "for i, sr_img in enumerate(sr_gif):\n",
    "    out = sr_img.cpu().numpy().squeeze(0).transpose(1, 2, 0)\n",
    "    gif.append(Image.fromarray((out*255).astype(np.uint8)))\n",
    "gif[0].save('test/gif/sr_test.gif', save_all=True, append_images=gif[1:], loop=0, duration=10)"
   ]
  }
 ],
 "metadata": {
  "kernelspec": {
   "display_name": "Python 3",
   "language": "python",
   "name": "python3"
  },
  "language_info": {
   "codemirror_mode": {
    "name": "ipython",
    "version": 3
   },
   "file_extension": ".py",
   "mimetype": "text/x-python",
   "name": "python",
   "nbconvert_exporter": "python",
   "pygments_lexer": "ipython3",
   "version": "3.10.9"
  },
  "orig_nbformat": 4,
  "vscode": {
   "interpreter": {
    "hash": "80d4199ce89506cff05a0cbf6301e52fb781c39e06d226463b74e28d651a44ee"
   }
  }
 },
 "nbformat": 4,
 "nbformat_minor": 2
}
